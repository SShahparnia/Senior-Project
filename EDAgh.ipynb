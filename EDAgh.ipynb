{
 "cells": [
  {
   "cell_type": "markdown",
   "metadata": {},
   "source": [
    "# CS 163 Final Project EDA Summary"
   ]
  },
  {
   "cell_type": "code",
   "execution_count": null,
   "metadata": {},
   "outputs": [],
   "source": [
    "# ================== IMPORT LIBRARIES ==================\n",
    "import pandas as pd\n",
    "import numpy as np\n",
    "import matplotlib.pyplot as plt\n",
    "import seaborn as sns\n",
    "from fpdf import FPDF\n",
    "import plotly.express as px\n",
    "import plotly.graph_objects as go\n",
    "import folium\n",
    "from folium.plugins import HeatMap\n",
    "import pandas as pd"
   ]
  },
  {
   "cell_type": "code",
   "execution_count": null,
   "metadata": {},
   "outputs": [],
   "source": [
    "# ================== SECTION 1: Load Dataset ==================\n",
    "file_path = \"C:/Users/sherv/Desktop/SP25/CS163/US_Accidents_March23.csv\"\n",
    "\n",
    "# Load dataset (keep original unchanged)\n",
    "df_original = pd.read_csv(file_path, low_memory=False)\n",
    "df = df_original.copy()  # Work on a copy"
   ]
  },
  {
   "cell_type": "code",
   "execution_count": null,
   "metadata": {},
   "outputs": [],
   "source": [
    "# ================== SECTION 2: Data Cleaning & Preprocessing ==================\n",
    "# Select relevant columns for analysis\n",
    "columns_to_keep = [\"Severity\", \"Start_Time\", \"State\", \"Temperature(F)\", \"Humidity(%)\",\n",
    "                   \"Visibility(mi)\", \"Precipitation(in)\", \"Weather_Condition\"]\n",
    "df = df[columns_to_keep]\n",
    "\n",
    "# Convert 'Start_Time' to datetime format\n",
    "df[\"Start_Time\"] = pd.to_datetime(df[\"Start_Time\"], errors='coerce')\n",
    "\n",
    "# Identify missing values\n",
    "missing_values = df.isnull().sum()\n",
    "\n",
    "# Drop missing values for simplicity\n",
    "df.dropna(inplace=True)"
   ]
  },
  {
   "cell_type": "code",
   "execution_count": null,
   "metadata": {},
   "outputs": [],
   "source": [
    "# ================== SECTION 3: Descriptive Statistics ==================\n",
    "# Summary statistics\n",
    "summary_stats = df.describe()\n",
    "print(\"Summary Statistics:\\n\", summary_stats)\n",
    "\n",
    "# Correlation Matrix (only numerical columns)\n",
    "numeric_df = df.select_dtypes(include=[np.number])\n",
    "corr_matrix = numeric_df.corr()\n",
    "print(\"\\nCorrelation Matrix:\\n\", corr_matrix)\n"
   ]
  },
  {
   "cell_type": "markdown",
   "metadata": {},
   "source": [
    "The average temperature during accidents is 61.4°F, with humidity averaging 65.9%, and low precipitation values (mean = 0.0085 inches). The correlation matrix indicates weak correlations between severity and environmental factors (e.g., precipitation, temperature, humidity), confirming that these variables alone are not strong predictors of accident severity. However, humidity and visibility are negatively correlated (-0.41), meaning that higher humidity tends to reduce visibility, which could indirectly affect accident rates.\n",
    "\n"
   ]
  },
  {
   "cell_type": "code",
   "execution_count": null,
   "metadata": {},
   "outputs": [],
   "source": [
    "# ================== SECTION 4: Data Visualizations ==================\n",
    "# 1️⃣ Accident Severity Distribution Bar Chart\n",
    "# Count the number of accidents per severity level\n",
    "severity_counts = df[\"Severity\"].value_counts().sort_index()\n",
    "\n",
    "# Create a bar chart\n",
    "plt.figure(figsize=(8, 5))\n",
    "sns.barplot(x=severity_counts.index, y=severity_counts.values, palette=\"Blues\")\n",
    "\n",
    "# Annotate bars with exact counts\n",
    "for i, count in enumerate(severity_counts.values):\n",
    "    plt.text(i, count + 10000, f\"{count:,}\", ha=\"center\", fontsize=12)\n",
    "\n",
    "# Labels and title\n",
    "plt.title(\"Accident Severity Distribution\", fontsize=14)\n",
    "plt.xlabel(\"Severity Level\", fontsize=12)\n",
    "plt.ylabel(\"Number of Accidents\", fontsize=12)\n",
    "plt.xticks(ticks=[0, 1, 2, 3], labels=[\"1 (Low)\", \"2 (Moderate)\", \"3 (High)\", \"4 (Severe)\"])\n",
    "\n",
    "# Save and show\n",
    "plt.show()\n"
   ]
  },
  {
   "cell_type": "markdown",
   "metadata": {},
   "source": [
    "The Accident Severity Distribution bar chart reveals that Severity Level 2 (Moderate) accounts for the majority of accidents (~3.9 million), followed by Severity Level 3 (High) and a much smaller proportion of Severity Level 1 (Low) and Level 4 (Severe). This suggests that most accidents cause moderate disruptions to traffic flow rather than extreme consequences."
   ]
  },
  {
   "cell_type": "code",
   "execution_count": null,
   "metadata": {},
   "outputs": [],
   "source": [
    "# 2️⃣ Heatmap of Feature Correlations\n",
    "plt.figure(figsize=(8,5))\n",
    "sns.heatmap(corr_matrix, annot=True, cmap=\"coolwarm\", fmt=\".2f\")\n",
    "plt.title(\"Feature Correlation Heatmap\")\n",
    "plt.show()\n"
   ]
  },
  {
   "cell_type": "markdown",
   "metadata": {},
   "source": [
    "## Key Heatmap Insights:\n",
    "### Severity vs. Other Factors:\n",
    "\n",
    "Severity has weak correlations with all other features (-0.03 to 0.04), meaning accident severity isn't strongly dependent on temperature, humidity, visibility, or precipitation.\n",
    "Temperature(F) vs. Humidity(%) (-0.34)\n",
    "\n",
    "Moderate negative correlation: As temperature increases, humidity decreases (warmer air holds more moisture but reduces relative humidity).\n",
    "Humidity(%) vs. Visibility(mi) (-0.41)\n",
    "\n",
    "Moderate negative correlation: Higher humidity reduces visibility (likely due to fog, mist, or rain).\n",
    "Visibility(mi) vs. Precipitation(in) (-0.12)\n",
    "\n",
    "Slight negative correlation: Increased precipitation (rain/snow) slightly reduces visibility, but it’s not a strong effect.\n",
    "Precipitation(in) vs. Severity (0.02)\n",
    "\n",
    "No significant correlation: This means higher precipitation doesn't strongly impact accident severity.\n",
    "\n",
    "### What This Means for our EDA\n",
    "No strong predictor of accident severity among these weather variables.\n",
    "Humidity and visibility are more closely related, which makes sense since fog and precipitation affect visibility.\n",
    "You may need to explore other factors (e.g., road conditions, time of day, traffic volume) to better predict accident severity.\n"
   ]
  },
  {
   "cell_type": "code",
   "execution_count": null,
   "metadata": {},
   "outputs": [],
   "source": [
    "# 3️⃣ Scatter plot: Precipitation vs. Severity\n",
    "\n",
    "plt.figure(figsize=(8, 5))\n",
    "sns.scatterplot(x=df[\"Precipitation(in)\"], y=df[\"Severity\"], alpha=0.5, color=\"blue\")\n",
    "\n",
    "# Apply log scale to precipitation\n",
    "plt.xscale(\"log\")\n",
    "plt.xticks([0.1, 1, 5, 10, 20, 50], labels=[\"0.1\", \"1\", \"5\", \"10\", \"20\", \"50\"])  # Custom tick labels\n",
    "\n",
    "# Improve readability\n",
    "plt.title(\"Precipitation vs Severity (Log Scale)\", fontsize=14)\n",
    "plt.xlabel(\"Precipitation (inches, log scale)\", fontsize=12)\n",
    "plt.ylabel(\"Severity\", fontsize=12)\n",
    "\n",
    "plt.grid(True, which=\"both\", linestyle=\"--\", linewidth=0.5)\n",
    "plt.show()"
   ]
  },
  {
   "cell_type": "markdown",
   "metadata": {},
   "source": [
    "The Precipitation vs. Severity (Log Scale) scatter plot demonstrates that most accidents occur in low precipitation levels (<1 inch), with a small number of cases at higher precipitation levels. Since Severity is categorical (1-4), the log scale helps visualize how accident severity is distributed across different precipitation levels. The lack of a strong pattern suggests that precipitation alone does not strongly determine accident severity."
   ]
  },
  {
   "cell_type": "code",
   "execution_count": null,
   "metadata": {},
   "outputs": [],
   "source": [
    "# 4️⃣ Bar Chart: Accidents by State\n",
    "# Count the number of accidents per state\n",
    "import matplotlib.ticker as mticker\n",
    "state_counts = df[\"State\"].value_counts().sort_values(ascending=False)\n",
    "\n",
    "# Create a bar plot\n",
    "plt.figure(figsize=(15, 6))\n",
    "sns.barplot(x=state_counts.index, y=state_counts.values, palette=\"viridis\")\n",
    "\n",
    "# Improve Y-axis scale (increments of 100,000)\n",
    "plt.yticks(range(0, max(state_counts.values) + 100000, 100000))  # Set tick intervals\n",
    "\n",
    "# Format Y-axis labels with commas instead of scientific notation\n",
    "plt.gca().yaxis.set_major_formatter(mticker.FuncFormatter(lambda x, _: f'{int(x):,}'))\n",
    "\n",
    "# Rotate x-axis labels for readability\n",
    "plt.xticks(rotation=90)\n",
    "\n",
    "# Add vertical labels on bars\n",
    "for i, count in enumerate(state_counts.values):\n",
    "    plt.text(i, count + 10000, f\"{count:,}\", ha=\"center\", va=\"bottom\", fontsize=9, rotation=90)\n",
    "\n",
    "# Labels and Title\n",
    "plt.title(\"Accident Distribution by State\", fontsize=14)\n",
    "plt.xlabel(\"State\", fontsize=12)\n",
    "plt.ylabel(\"Number of Accidents\", fontsize=12)\n",
    "\n",
    "# Save and show\n",
    "plt.show()"
   ]
  },
  {
   "cell_type": "markdown",
   "metadata": {},
   "source": [
    "The Accident Distribution by State bar chart highlights that California (CA), Florida (FL), and Texas (TX) have the highest number of recorded accidents, with California exceeding 1 million accidents. This trend suggests that states with high population density and urban traffic congestion tend to experience more accidents. Conversely, states like Vermont (VT), South Dakota (SD), and Wyoming (WY) have significantly lower accident counts, likely due to lower population density and fewer urban roadways."
   ]
  },
  {
   "cell_type": "code",
   "execution_count": null,
   "metadata": {},
   "outputs": [],
   "source": [
    "\n",
    "# ================== Data Cleaning ==================\n",
    "# Keep only relevant columns and drop missing values\n",
    "df_map = df_original[[\"Start_Lat\", \"Start_Lng\"]].dropna()\n",
    "\n",
    "# Convert DataFrame to a list of [lat, lon] for HeatMap\n",
    "heat_data = df_map.values.tolist()\n",
    "\n",
    "# ================== Create Folium Heatmap ==================\n",
    "# Initialize the map centered in the U.S.\n",
    "m = folium.Map(location=[37.8, -96], zoom_start=5, tiles=\"CartoDB Voyager\", attr=\"Stamen Terrain, OpenStreetMap\")\n",
    "\n",
    "\n",
    "# Add heatmap layer\n",
    "HeatMap(\n",
    "    heat_data,\n",
    "    radius=8,    # Adjust size of heat points\n",
    "    blur=4,      # Adjust blur effect\n",
    "    max_zoom=10  # Improve zoom visibility\n",
    ").add_to(m)\n",
    "\n",
    "# ================== Save and Display Map ==================\n",
    "# Save map to an HTML file\n",
    "m.save(\"US_Accident_Heatmap.html\")\n",
    "\n",
    "# Display map (if running in Jupyter Notebook)\n",
    "m"
   ]
  },
  {
   "cell_type": "markdown",
   "metadata": {},
   "source": [
    "## General Conclusion from initial EDA"
   ]
  },
  {
   "cell_type": "markdown",
   "metadata": {},
   "source": [
    "Overall, these findings suggest that urban density, traffic congestion, and other external factors likely have a more significant impact on accident frequency and severity than weather conditions alone. Further analysis could explore time-of-day trends, road conditions, and traffic volume to refine predictive insights. 🚗📊\n",
    "\n",
    "\n",
    "\n",
    "\n",
    "\n",
    "\n",
    "\n"
   ]
  }
 ],
 "metadata": {
  "language_info": {
   "name": "python"
  }
 },
 "nbformat": 4,
 "nbformat_minor": 2
}
